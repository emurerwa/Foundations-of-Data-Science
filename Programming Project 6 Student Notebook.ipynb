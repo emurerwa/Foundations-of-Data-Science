{
 "cells": [
  {
   "cell_type": "markdown",
   "metadata": {
    "deletable": false,
    "nbgrader": {
     "cell_type": "markdown",
     "checksum": "5871853024ac213e40531aad935f4cbc",
     "grade": false,
     "grade_id": "cell-6397a73803365948",
     "locked": true,
     "schema_version": 3,
     "solution": false,
     "task": false
    }
   },
   "source": [
    "# Project 6\n",
    "\n",
    "In addition to answering the bolded questions on Coursera, also attach your notebook, both as\n",
    "`.ipynb` and `.html`.\n",
    "\n",
    "In the following exercise, we will perform model selection to find the best model for two datasets.\n",
    "\n",
    "In this assignment, we will be using PennGrader, a Python package built by a former TA for autograding Python notebooks. PennGrader was developed to provide students with instant feedback on their answer. You can submit your answer and know whether it's right or wrong instantly. We then record your most recent answer in our backend database. You will have 100 attempts per test case, which should be more than sufficient.\n",
    "\n",
    "\n",
    "<b>NOTE：Please remember to remove the </b>\n",
    "\n",
    "```python\n",
    "raise notImplementedError\n",
    "```\n",
    "<b>after your implementation, otherwise the cell will not compile.</b>"
   ]
  },
  {
   "cell_type": "markdown",
   "metadata": {},
   "source": [
    "## Getting Setup\n",
    "Please run the below cells to get setup with the autograder. If you need to install packages, please do it below!"
   ]
  },
  {
   "cell_type": "code",
   "execution_count": 1,
   "metadata": {},
   "outputs": [],
   "source": [
    "# %%capture\n",
    "# !pip install penngrader --user"
   ]
  },
  {
   "cell_type": "markdown",
   "metadata": {},
   "source": [
    "Let's try PennGrader out! Fill in the cell below with your PennID and then run the following cell to initialize the grader.\n",
    "\n",
    "<font color='red'>Warning:</font> Please make sure you only have one copy of the student notebook in your directory in Codio upon submission. The autograder looks for the variable `STUDENT_ID` across all notebooks, so if there is a duplicate notebook, it will fail."
   ]
  },
  {
   "cell_type": "code",
   "execution_count": 2,
   "metadata": {},
   "outputs": [],
   "source": [
    "#PLEASE ENSURE YOUR STUDENT_ID IS ENTERED AS AN INT (NOT A STRING). IF NOT, THE AUTOGRADER WON'T KNOW WHO \n",
    "#TO ASSIGN POINTS TO YOU IN OUR BACKEND\n",
    "\n",
    "STUDENT_ID = 57896367                    # YOUR 8-DIGIT PENNID GOES HERE\n",
    "STUDENT_NAME = \"Emmanuel Murerwa\"     # YOUR FULL NAME GOES HERE"
   ]
  },
  {
   "cell_type": "code",
   "execution_count": 3,
   "metadata": {},
   "outputs": [],
   "source": [
    "import penngrader.grader\n",
    "\n",
    "grader = penngrader.grader.PennGrader(homework_id = 'ESE305_FA_2021_HW6', student_id = STUDENT_ID)"
   ]
  },
  {
   "cell_type": "markdown",
   "metadata": {
    "deletable": false,
    "editable": false,
    "nbgrader": {
     "cell_type": "markdown",
     "checksum": "a7d873b81499092078909b42c23507dd",
     "grade": false,
     "grade_id": "cell-fcb5428619197f27",
     "locked": true,
     "schema_version": 3,
     "solution": false,
     "task": false
    }
   },
   "source": [
    "## Part A\n",
    "\n",
    "First, we will run multiple linear regression on the Auto dataset and use subset selection to find the best model. This dataset contains the following nine columns from 392 cars:\n",
    "\n",
    "|Column|Description|\n",
    "|:-|:-|\n",
    "|mpg| continuous|\n",
    "|cylinders| multi-valued discrete|\n",
    "|displacement| continuous|\n",
    "|horsepower| continuous|\n",
    "|weight| continuous|\n",
    "|acceleration| continuous|\n",
    "|model year| multi-valued discrete|\n",
    "|origin| multi-valued discrete|\n",
    "|car name| string|"
   ]
  },
  {
   "cell_type": "code",
   "execution_count": 4,
   "metadata": {},
   "outputs": [],
   "source": [
    "# Feel free to import your own libraries!\n",
    "\n",
    "# Let's import the relevant Python packages here\n",
    "# Feel free to import any other packages for this project\n",
    "\n",
    "# Data Wrangling\n",
    "import pandas as pd\n",
    "import numpy as np\n",
    "import seaborn as sns\n",
    "\n",
    "# ML\n",
    "from sklearn.linear_model import LinearRegression\n",
    "from sklearn.preprocessing import PolynomialFeatures\n",
    "\n",
    "# Statistics\n",
    "import statsmodels.formula.api as smf\n",
    "import statsmodels.api as sm\n",
    "\n",
    "# Evaluation Metrics\n",
    "from sklearn.metrics import mean_squared_error\n",
    "\n",
    "# Plotting\n",
    "import matplotlib.pyplot as plt\n",
    "\n",
    "%matplotlib inline"
   ]
  },
  {
   "cell_type": "code",
   "execution_count": 5,
   "metadata": {},
   "outputs": [
    {
     "data": {
      "text/html": [
       "<div>\n",
       "<style scoped>\n",
       "    .dataframe tbody tr th:only-of-type {\n",
       "        vertical-align: middle;\n",
       "    }\n",
       "\n",
       "    .dataframe tbody tr th {\n",
       "        vertical-align: top;\n",
       "    }\n",
       "\n",
       "    .dataframe thead th {\n",
       "        text-align: right;\n",
       "    }\n",
       "</style>\n",
       "<table border=\"1\" class=\"dataframe\">\n",
       "  <thead>\n",
       "    <tr style=\"text-align: right;\">\n",
       "      <th></th>\n",
       "      <th>mpg</th>\n",
       "      <th>cylinders</th>\n",
       "      <th>displacement</th>\n",
       "      <th>horsepower</th>\n",
       "      <th>weight</th>\n",
       "      <th>acceleration</th>\n",
       "      <th>year</th>\n",
       "      <th>origin</th>\n",
       "      <th>name</th>\n",
       "    </tr>\n",
       "  </thead>\n",
       "  <tbody>\n",
       "    <tr>\n",
       "      <th>0</th>\n",
       "      <td>18.0</td>\n",
       "      <td>8</td>\n",
       "      <td>307.0</td>\n",
       "      <td>130</td>\n",
       "      <td>3504</td>\n",
       "      <td>12.0</td>\n",
       "      <td>70</td>\n",
       "      <td>1</td>\n",
       "      <td>chevrolet chevelle malibu</td>\n",
       "    </tr>\n",
       "    <tr>\n",
       "      <th>1</th>\n",
       "      <td>15.0</td>\n",
       "      <td>8</td>\n",
       "      <td>350.0</td>\n",
       "      <td>165</td>\n",
       "      <td>3693</td>\n",
       "      <td>11.5</td>\n",
       "      <td>70</td>\n",
       "      <td>1</td>\n",
       "      <td>buick skylark 320</td>\n",
       "    </tr>\n",
       "    <tr>\n",
       "      <th>2</th>\n",
       "      <td>18.0</td>\n",
       "      <td>8</td>\n",
       "      <td>318.0</td>\n",
       "      <td>150</td>\n",
       "      <td>3436</td>\n",
       "      <td>11.0</td>\n",
       "      <td>70</td>\n",
       "      <td>1</td>\n",
       "      <td>plymouth satellite</td>\n",
       "    </tr>\n",
       "    <tr>\n",
       "      <th>3</th>\n",
       "      <td>16.0</td>\n",
       "      <td>8</td>\n",
       "      <td>304.0</td>\n",
       "      <td>150</td>\n",
       "      <td>3433</td>\n",
       "      <td>12.0</td>\n",
       "      <td>70</td>\n",
       "      <td>1</td>\n",
       "      <td>amc rebel sst</td>\n",
       "    </tr>\n",
       "    <tr>\n",
       "      <th>4</th>\n",
       "      <td>17.0</td>\n",
       "      <td>8</td>\n",
       "      <td>302.0</td>\n",
       "      <td>140</td>\n",
       "      <td>3449</td>\n",
       "      <td>10.5</td>\n",
       "      <td>70</td>\n",
       "      <td>1</td>\n",
       "      <td>ford torino</td>\n",
       "    </tr>\n",
       "  </tbody>\n",
       "</table>\n",
       "</div>"
      ],
      "text/plain": [
       "    mpg  cylinders  displacement  horsepower  weight  acceleration  year  \\\n",
       "0  18.0          8         307.0         130    3504          12.0    70   \n",
       "1  15.0          8         350.0         165    3693          11.5    70   \n",
       "2  18.0          8         318.0         150    3436          11.0    70   \n",
       "3  16.0          8         304.0         150    3433          12.0    70   \n",
       "4  17.0          8         302.0         140    3449          10.5    70   \n",
       "\n",
       "   origin                       name  \n",
       "0       1  chevrolet chevelle malibu  \n",
       "1       1          buick skylark 320  \n",
       "2       1         plymouth satellite  \n",
       "3       1              amc rebel sst  \n",
       "4       1                ford torino  "
      ]
     },
     "execution_count": 5,
     "metadata": {},
     "output_type": "execute_result"
    }
   ],
   "source": [
    "auto_data_raw = pd.read_csv(\"Auto.csv\")\n",
    "auto = auto_data_raw.copy()\n",
    "auto.head()"
   ]
  },
  {
   "cell_type": "markdown",
   "metadata": {
    "deletable": false,
    "nbgrader": {
     "cell_type": "markdown",
     "checksum": "f3cc79ab4e1012378a4f7bdf9f9062ba",
     "grade": false,
     "grade_id": "cell-eefa1d716d57270d",
     "locked": true,
     "schema_version": 3,
     "solution": false,
     "task": false
    }
   },
   "source": [
    "1. Produce a scatter plot matrix which includes all the variables in the dataset. Comment on your observations. Are there any variables in particular which seem to be strongly correlated? Store your observation in `observed` as one string. If you do not get full credit for your observations, try to keep adding more comments."
   ]
  },
  {
   "cell_type": "code",
   "execution_count": 6,
   "metadata": {},
   "outputs": [
    {
     "data": {
      "image/png": "[encoded data removed]",
      "text/plain": [
       "<Figure size 432x288 with 64 Axes>"
      ]
     },
     "metadata": {
      "needs_background": "light"
     },
     "output_type": "display_data"
    }
   ],
   "source": [
    "# Add your codes here\n",
    "axes = pd.plotting.scatter_matrix(auto, color=\"brown\")\n",
    "observed = \"horsepower and weight seem to have strong positive correlation. mpg seems to negative correlation with displacement, weight, and horsepower.\""
   ]
  },
  {
   "cell_type": "code",
   "execution_count": 7,
   "metadata": {
    "deletable": false,
    "editable": false
   },
   "outputs": [
    {
     "name": "stdout",
     "output_type": "stream",
     "text": [
      "Correct! You earned 1/1 points. You are a star!\n",
      "\n",
      "Your submission has been successfully recorded in the gradebook.\n"
     ]
    }
   ],
   "source": [
    "grader.grade(test_case_id = 'test_correlation_obs', answer = observed)"
   ]
  },
  {
   "cell_type": "markdown",
   "metadata": {
    "deletable": false,
    "editable": false,
    "nbgrader": {
     "cell_type": "markdown",
     "checksum": "3db2b236356e073321d4857efbfd1be5",
     "grade": false,
     "grade_id": "cell-52aabcb2e02bfc18",
     "locked": true,
     "schema_version": 3,
     "solution": false,
     "task": false
    }
   },
   "source": [
    "2. Compute a matrix of correlations between the variables using the `pandas` and `corr()` functions."
   ]
  },
  {
   "cell_type": "code",
   "execution_count": 8,
   "metadata": {},
   "outputs": [
    {
     "data": {
      "text/html": [
       "<div>\n",
       "<style scoped>\n",
       "    .dataframe tbody tr th:only-of-type {\n",
       "        vertical-align: middle;\n",
       "    }\n",
       "\n",
       "    .dataframe tbody tr th {\n",
       "        vertical-align: top;\n",
       "    }\n",
       "\n",
       "    .dataframe thead th {\n",
       "        text-align: right;\n",
       "    }\n",
       "</style>\n",
       "<table border=\"1\" class=\"dataframe\">\n",
       "  <thead>\n",
       "    <tr style=\"text-align: right;\">\n",
       "      <th></th>\n",
       "      <th>mpg</th>\n",
       "      <th>cylinders</th>\n",
       "      <th>displacement</th>\n",
       "      <th>horsepower</th>\n",
       "      <th>weight</th>\n",
       "      <th>acceleration</th>\n",
       "      <th>year</th>\n",
       "      <th>origin</th>\n",
       "    </tr>\n",
       "  </thead>\n",
       "  <tbody>\n",
       "    <tr>\n",
       "      <th>mpg</th>\n",
       "      <td>1.000000</td>\n",
       "      <td>-0.777618</td>\n",
       "      <td>-0.805127</td>\n",
       "      <td>-0.778427</td>\n",
       "      <td>-0.832244</td>\n",
       "      <td>0.423329</td>\n",
       "      <td>0.580541</td>\n",
       "      <td>0.565209</td>\n",
       "    </tr>\n",
       "    <tr>\n",
       "      <th>cylinders</th>\n",
       "      <td>-0.777618</td>\n",
       "      <td>1.000000</td>\n",
       "      <td>0.950823</td>\n",
       "      <td>0.842983</td>\n",
       "      <td>0.897527</td>\n",
       "      <td>-0.504683</td>\n",
       "      <td>-0.345647</td>\n",
       "      <td>-0.568932</td>\n",
       "    </tr>\n",
       "    <tr>\n",
       "      <th>displacement</th>\n",
       "      <td>-0.805127</td>\n",
       "      <td>0.950823</td>\n",
       "      <td>1.000000</td>\n",
       "      <td>0.897257</td>\n",
       "      <td>0.932994</td>\n",
       "      <td>-0.543800</td>\n",
       "      <td>-0.369855</td>\n",
       "      <td>-0.614535</td>\n",
       "    </tr>\n",
       "    <tr>\n",
       "      <th>horsepower</th>\n",
       "      <td>-0.778427</td>\n",
       "      <td>0.842983</td>\n",
       "      <td>0.897257</td>\n",
       "      <td>1.000000</td>\n",
       "      <td>0.864538</td>\n",
       "      <td>-0.689196</td>\n",
       "      <td>-0.416361</td>\n",
       "      <td>-0.455171</td>\n",
       "    </tr>\n",
       "    <tr>\n",
       "      <th>weight</th>\n",
       "      <td>-0.832244</td>\n",
       "      <td>0.897527</td>\n",
       "      <td>0.932994</td>\n",
       "      <td>0.864538</td>\n",
       "      <td>1.000000</td>\n",
       "      <td>-0.416839</td>\n",
       "      <td>-0.309120</td>\n",
       "      <td>-0.585005</td>\n",
       "    </tr>\n",
       "    <tr>\n",
       "      <th>acceleration</th>\n",
       "      <td>0.423329</td>\n",
       "      <td>-0.504683</td>\n",
       "      <td>-0.543800</td>\n",
       "      <td>-0.689196</td>\n",
       "      <td>-0.416839</td>\n",
       "      <td>1.000000</td>\n",
       "      <td>0.290316</td>\n",
       "      <td>0.212746</td>\n",
       "    </tr>\n",
       "    <tr>\n",
       "      <th>year</th>\n",
       "      <td>0.580541</td>\n",
       "      <td>-0.345647</td>\n",
       "      <td>-0.369855</td>\n",
       "      <td>-0.416361</td>\n",
       "      <td>-0.309120</td>\n",
       "      <td>0.290316</td>\n",
       "      <td>1.000000</td>\n",
       "      <td>0.181528</td>\n",
       "    </tr>\n",
       "    <tr>\n",
       "      <th>origin</th>\n",
       "      <td>0.565209</td>\n",
       "      <td>-0.568932</td>\n",
       "      <td>-0.614535</td>\n",
       "      <td>-0.455171</td>\n",
       "      <td>-0.585005</td>\n",
       "      <td>0.212746</td>\n",
       "      <td>0.181528</td>\n",
       "      <td>1.000000</td>\n",
       "    </tr>\n",
       "  </tbody>\n",
       "</table>\n",
       "</div>"
      ],
      "text/plain": [
       "                   mpg  cylinders  displacement  horsepower    weight  \\\n",
       "mpg           1.000000  -0.777618     -0.805127   -0.778427 -0.832244   \n",
       "cylinders    -0.777618   1.000000      0.950823    0.842983  0.897527   \n",
       "displacement -0.805127   0.950823      1.000000    0.897257  0.932994   \n",
       "horsepower   -0.778427   0.842983      0.897257    1.000000  0.864538   \n",
       "weight       -0.832244   0.897527      0.932994    0.864538  1.000000   \n",
       "acceleration  0.423329  -0.504683     -0.543800   -0.689196 -0.416839   \n",
       "year          0.580541  -0.345647     -0.369855   -0.416361 -0.309120   \n",
       "origin        0.565209  -0.568932     -0.614535   -0.455171 -0.585005   \n",
       "\n",
       "              acceleration      year    origin  \n",
       "mpg               0.423329  0.580541  0.565209  \n",
       "cylinders        -0.504683 -0.345647 -0.568932  \n",
       "displacement     -0.543800 -0.369855 -0.614535  \n",
       "horsepower       -0.689196 -0.416361 -0.455171  \n",
       "weight           -0.416839 -0.309120 -0.585005  \n",
       "acceleration      1.000000  0.290316  0.212746  \n",
       "year              0.290316  1.000000  0.181528  \n",
       "origin            0.212746  0.181528  1.000000  "
      ]
     },
     "execution_count": 8,
     "metadata": {},
     "output_type": "execute_result"
    }
   ],
   "source": [
    "# There are a lot more variables with correlation greater than 0.8.\n",
    "auto.corr()"
   ]
  },
  {
   "cell_type": "markdown",
   "metadata": {
    "deletable": false,
    "nbgrader": {
     "cell_type": "markdown",
     "checksum": "2c6f3aa37dc509c391a2b6e52f51b25b",
     "grade": false,
     "grade_id": "cell-01453dcb2d3a6692",
     "locked": false,
     "schema_version": 3,
     "solution": false,
     "task": false
    }
   },
   "source": [
    "3. Using `Stats Models`, perform linear regression with 'mpg' as the response variable and all other variables except 'name' as predictors. Print the results of your regression analysis. Please answer the following questions based on your model.\n",
    "\n",
    "    - <b>Which predictors appear to have a statistically signiﬁcant relationship with the response variable at a  $95\\%$ confidence level?</b> Please store them in <b>significant_predictor</b> as a list of strings.\n",
    "    - <b>What does the coeﬃcient for the ‘year’ variable suggest?</b> Comment on your observations and store your findings in `year_coef` as a single string. If you do not get full credit for your observations, try to keep adding more comments."
   ]
  },
  {
   "cell_type": "code",
   "execution_count": 9,
   "metadata": {},
   "outputs": [
    {
     "name": "stdout",
     "output_type": "stream",
     "text": [
      "                            OLS Regression Results                            \n",
      "==============================================================================\n",
      "Dep. Variable:                    mpg   R-squared:                       0.821\n",
      "Model:                            OLS   Adj. R-squared:                  0.818\n",
      "Method:                 Least Squares   F-statistic:                     252.4\n",
      "Date:                Thu, 11 Nov 2021   Prob (F-statistic):          2.04e-139\n",
      "Time:                        04:21:40   Log-Likelihood:                -1023.5\n",
      "No. Observations:                 392   AIC:                             2063.\n",
      "Df Residuals:                     384   BIC:                             2095.\n",
      "Df Model:                           7                                         \n",
      "Covariance Type:            nonrobust                                         \n",
      "================================================================================\n",
      "                   coef    std err          t      P>|t|      [0.025      0.975]\n",
      "--------------------------------------------------------------------------------\n",
      "Intercept      -17.2184      4.644     -3.707      0.000     -26.350      -8.087\n",
      "cylinders       -0.4934      0.323     -1.526      0.128      -1.129       0.142\n",
      "displacement     0.0199      0.008      2.647      0.008       0.005       0.035\n",
      "horsepower      -0.0170      0.014     -1.230      0.220      -0.044       0.010\n",
      "weight          -0.0065      0.001     -9.929      0.000      -0.008      -0.005\n",
      "acceleration     0.0806      0.099      0.815      0.415      -0.114       0.275\n",
      "year             0.7508      0.051     14.729      0.000       0.651       0.851\n",
      "origin           1.4261      0.278      5.127      0.000       0.879       1.973\n",
      "==============================================================================\n",
      "Omnibus:                       31.906   Durbin-Watson:                   1.309\n",
      "Prob(Omnibus):                  0.000   Jarque-Bera (JB):               53.100\n",
      "Skew:                           0.529   Prob(JB):                     2.95e-12\n",
      "Kurtosis:                       4.460   Cond. No.                     8.59e+04\n",
      "==============================================================================\n",
      "\n",
      "Notes:\n",
      "[1] Standard Errors assume that the covariance matrix of the errors is correctly specified.\n",
      "[2] The condition number is large, 8.59e+04. This might indicate that there are\n",
      "strong multicollinearity or other numerical problems.\n"
     ]
    }
   ],
   "source": [
    "# Add your codes here\n",
    "fit0 = smf.ols('mpg~cylinders+displacement+horsepower+weight+acceleration+year+origin',data = auto).fit()\n",
    "print(fit0.summary())\n",
    "\n",
    "year_coef = \"It sugeests that the variable year is very significant and therefore should be used in the formula for this \"\n",
    "significant_predictor = ['displacement', 'weight', 'year', 'origin']"
   ]
  },
  {
   "cell_type": "code",
   "execution_count": 10,
   "metadata": {
    "deletable": false,
    "editable": false
   },
   "outputs": [
    {
     "name": "stdout",
     "output_type": "stream",
     "text": [
      "Correct! You earned 2/2 points. You are a star!\n",
      "\n",
      "Your submission has been successfully recorded in the gradebook.\n"
     ]
    }
   ],
   "source": [
    "grader.grade(test_case_id = 'test_sig_predictor', answer = significant_predictor)"
   ]
  },
  {
   "cell_type": "code",
   "execution_count": 11,
   "metadata": {
    "deletable": false,
    "editable": false
   },
   "outputs": [
    {
     "name": "stdout",
     "output_type": "stream",
     "text": [
      "You earned 0.5/1 points.\n",
      "\n",
      "But, don't worry you can re-submit and we will keep only your latest score.\n"
     ]
    }
   ],
   "source": [
    "grader.grade(test_case_id = 'test_year_ob', answer = year_coef)"
   ]
  },
  {
   "cell_type": "markdown",
   "metadata": {
    "deletable": false,
    "nbgrader": {
     "cell_type": "markdown",
     "checksum": "3d8c47960742e4b1395000d70a471eee",
     "grade": false,
     "grade_id": "cell-7ea727818bfa99e7",
     "locked": false,
     "schema_version": 3,
     "solution": false,
     "task": false
    }
   },
   "source": [
    "4. Select the optimal model by manually performing forward stepwise selection. The goal of this exercise is to show the sheer number of models needed for forward stepwise selection. To do this, first split the dataset into a training set and a test set, with a `test_size` of $20\\%$ and `random_state = 42`. It is important to only use the training set to train the model. You may use the `processSubset` function from the recitation, but you should at least run 3 iterations of forward stepwise selection manually, as we wish to see each step of forward stepwise selection. \n",
    "\n",
    "First, run linear regression with one variable. Select the best model using training RSS as the performance metric. Using that first variable, continue adding variables, one at a time, until your linear model includes all of the variables. Afterwards, calculate the test RSS of all your models and select the one that <b>minimizes</b> test RSS. *Hint*: You can use the result of linear regression from `Stats Models` to calculate RSS by looking at the sum of the squared residuals. \n",
    "\n",
    "Store the listed models <b>for each round of selection</b> within `chosen_models`. Store your list of selected variables within <b>predictors_forward</b>. <b> Please do not capitalize your column names</b>. \n",
    "\n",
    "*Hint*: \n",
    "1. Your `chosen_models` should be of size 1*7, the first model has two coefficients(intercept and a predictor), and the last model has 8 coefficients(intercept and the entire predictor space).\n",
    "2. Find the RSS for each of your chosen models. Choose the model with the least RSS as your selected model."
   ]
  },
  {
   "cell_type": "code",
   "execution_count": 12,
   "metadata": {},
   "outputs": [
    {
     "name": "stdout",
     "output_type": "stream",
     "text": [
      "Index(['Intercept', 'weight', 'year', 'origin', 'horsepower', 'displacement',\n",
      "       'cylinders', 'acceleration'],\n",
      "      dtype='object')\n"
     ]
    }
   ],
   "source": [
    "# Add your codes here\n",
    "from sklearn.model_selection import train_test_split\n",
    "RANDOM_STATE = 42\n",
    "np.random.seed(RANDOM_STATE)\n",
    "train, test = train_test_split(auto.drop(columns = ['name']), test_size=0.2)\n",
    "\n",
    "chosen_models = []\n",
    "\n",
    "first_RSS = []\n",
    "first_model = []\n",
    "for i in range(1, len(train.columns)):\n",
    "    first_fit = smf.ols('mpg~%s'% train.columns[i], data = train).fit()\n",
    "    first_model.append(first_fit)\n",
    "    RSS = sum(first_fit.resid**2)\n",
    "    first_RSS.append(RSS)   \n",
    "min_first_RSS = min(first_RSS)\n",
    "chosen_models.append(first_model[first_RSS.index(min_first_RSS)])\n",
    "\n",
    "second_RSS = []\n",
    "second_model = []\n",
    "for i in range(1, len(train.columns)):\n",
    "    second_fit = smf.ols('mpg~weight+%s'% train.columns[i], data = train).fit()\n",
    "    second_model.append(second_fit)\n",
    "    RSS = sum(second_fit.resid**2)\n",
    "    second_RSS.append(RSS)   \n",
    "min_second_RSS = min(second_RSS)\n",
    "chosen_models.append(second_model[second_RSS.index(min_second_RSS)])\n",
    "\n",
    "third_RSS = []\n",
    "third_model = []\n",
    "for i in range(1, len(train.columns)):\n",
    "    third_fit = smf.ols('mpg~weight+year+%s'% train.columns[i], data = train).fit()\n",
    "    third_model.append(third_fit)\n",
    "    RSS = sum(third_fit.resid**2)\n",
    "    third_RSS.append(RSS)   \n",
    "min_third_RSS = min(third_RSS)\n",
    "chosen_models.append(third_model[third_RSS.index(min_third_RSS)])\n",
    "\n",
    "fourth_RSS = []\n",
    "fourth_model = []\n",
    "for i in range(1, len(train.columns)):\n",
    "    fourth_fit = smf.ols('mpg~weight+year+origin+%s'% train.columns[i], data = train).fit()\n",
    "    fourth_model.append(fourth_fit)\n",
    "    RSS = sum(fourth_fit.resid**2)\n",
    "    fourth_RSS.append(RSS)   \n",
    "min_fourth_RSS = min(fourth_RSS)\n",
    "chosen_models.append(fourth_model[fourth_RSS.index(min_fourth_RSS)])\n",
    "\n",
    "fifth_RSS = []\n",
    "fifth_model = []\n",
    "for i in range(1, len(train.columns)):\n",
    "    fifth_fit = smf.ols('mpg~weight+year+origin+horsepower+%s'% train.columns[i], data = train).fit()\n",
    "    fifth_model.append(fifth_fit)\n",
    "    RSS = sum(fifth_fit.resid**2)\n",
    "    fifth_RSS.append(RSS)   \n",
    "min_fifth_RSS = min(fifth_RSS)\n",
    "chosen_models.append(fifth_model[fifth_RSS.index(min_fifth_RSS)])\n",
    "\n",
    "sixth_RSS = []\n",
    "sixth_model = []\n",
    "for i in range(1, len(train.columns)):\n",
    "    sixth_fit = smf.ols('mpg~weight+year+origin+horsepower+displacement+%s'% train.columns[i], data = train).fit()\n",
    "    sixth_model.append(sixth_fit)\n",
    "    RSS = sum(sixth_fit.resid**2)\n",
    "    sixth_RSS.append(RSS)   \n",
    "min_sixth_RSS = min(sixth_RSS)\n",
    "chosen_models.append(sixth_model[sixth_RSS.index(min_sixth_RSS)])\n",
    "\n",
    "seventh_RSS = []\n",
    "seventh_model = []\n",
    "for i in range(1, len(train.columns)):\n",
    "    seventh_fit = smf.ols('mpg~weight+year+origin+horsepower+displacement+cylinders+%s'% train.columns[i], data = train).fit()\n",
    "    seventh_model.append(seventh_fit)\n",
    "    RSS = sum(seventh_fit.resid**2)\n",
    "    seventh_RSS.append(RSS)   \n",
    "min_seventh_RSS = min(seventh_RSS)\n",
    "chosen_models.append(seventh_model[seventh_RSS.index(min_seventh_RSS)])\n",
    "\n",
    "print(chosen_models [-1].params.index)\n"
   ]
  },
  {
   "cell_type": "code",
   "execution_count": 13,
   "metadata": {},
   "outputs": [],
   "source": [
    "# Add your codes here\n",
    "predictors_forward = ['weight', 'year']"
   ]
  },
  {
   "cell_type": "code",
   "execution_count": 14,
   "metadata": {
    "deletable": false,
    "editable": false
   },
   "outputs": [],
   "source": [
    "# Please do not change the code below\n",
    "chosen_models_params = [x.params for x in chosen_models]"
   ]
  },
  {
   "cell_type": "code",
   "execution_count": 15,
   "metadata": {
    "deletable": false,
    "editable": false
   },
   "outputs": [
    {
     "name": "stdout",
     "output_type": "stream",
     "text": [
      "Correct! You earned 3/3 points. You are a star!\n",
      "\n",
      "Your submission has been successfully recorded in the gradebook.\n"
     ]
    }
   ],
   "source": [
    "grader.grade(test_case_id = 'test_chosen_models', answer = list(chosen_models_params))"
   ]
  },
  {
   "cell_type": "code",
   "execution_count": 16,
   "metadata": {
    "deletable": false,
    "editable": false
   },
   "outputs": [
    {
     "name": "stdout",
     "output_type": "stream",
     "text": [
      "Correct! You earned 2/2 points. You are a star!\n",
      "\n",
      "Your submission has been successfully recorded in the gradebook.\n"
     ]
    }
   ],
   "source": [
    "grader.grade(test_case_id = 'test_forward_selection', answer = predictors_forward)"
   ]
  },
  {
   "cell_type": "markdown",
   "metadata": {
    "deletable": false,
    "nbgrader": {
     "cell_type": "markdown",
     "checksum": "9686868428f2a44c5f43b65ce88927a6",
     "grade": false,
     "grade_id": "cell-b3b6aaa38a67a787",
     "locked": true,
     "schema_version": 3,
     "solution": false,
     "task": false
    }
   },
   "source": [
    "5. Using the full dataset, fit a linear regression model with interaction eﬀects between 'displacement', 'weight', 'year', and 'origin'. Do any interactions appear to be statistically signiﬁcant? *Hint*: In addition to the full model with all seven predictors, your model should include six more interaction terms. List your list of significant interaction terms in <b>predictor_interaction</b> in alphabetical order.\n",
    "\n",
    "*Hint*: \n",
    "1. Only store the interaction terms, your output format should be [\"a:b\",\"a:c\"...].\n",
    "2. Manually create a list of interaction terms first and then use '+'.join(list) to build your model."
   ]
  },
  {
   "cell_type": "code",
   "execution_count": 17,
   "metadata": {},
   "outputs": [],
   "source": [
    "# Add your codes here\n",
    "mpg = auto[\"mpg\"]\n",
    "cylinders = auto[\"cylinders\"]\n",
    "displacement = auto[\"displacement\"]\n",
    "horsepower = auto[\"horsepower\"]\n",
    "weight = auto[\"weight\"]\n",
    "acceleration = auto[\"acceleration\"]\n",
    "year = auto[\"year\"]\n",
    "origin = auto[\"origin\"]\n",
    "\n",
    "interaction = pd.concat([auto[\"mpg\"], auto[\"cylinders\"], auto[\"displacement\"], auto[\"horsepower\"], \n",
    "                        auto[\"weight\"], auto[\"acceleration\"], auto[\"year\"], auto[\"origin\"], \n",
    "                        auto[\"displacement\"]*auto[\"weight\"], auto[\"displacement\"]*auto[\"year\"],\n",
    "                        auto[\"displacement\"]*auto[\"origin\"], auto[\"weight\"]*auto[\"origin\"],\n",
    "                        auto[\"weight\"]*auto[\"year\"], auto[\"year\"]*auto[\"origin\"]])\n",
    "interaction.columns = [\"mpg\", \"cylinders\", \"displacement\", \"horsepower\", \"weight\", \n",
    "                       \"acceleration\", \"year\", \"origin\", \"displacement * weight\", \n",
    "                       \"displacement * year\", \"displacement * origin\", \"weight * origin\", \n",
    "                       \"weight * year\",\"year * origin\"]\n",
    "interaction.head()\n",
    "fit = smf.ols('mpg~%s' % '+'.join(interaction.columns[1:]), data=interaction).fit()\n",
    "fit.summary()\n",
    "\n",
    "predictor_interaction = [\"displacement:weight\"]"
   ]
  },
  {
   "cell_type": "code",
   "execution_count": 18,
   "metadata": {
    "deletable": false,
    "editable": false
   },
   "outputs": [
    {
     "name": "stdout",
     "output_type": "stream",
     "text": [
      "Correct! You earned 2/2 points. You are a star!\n",
      "\n",
      "Your submission has been successfully recorded in the gradebook.\n"
     ]
    }
   ],
   "source": [
    "grader.grade(test_case_id = 'test_interactions', answer = predictor_interaction)"
   ]
  },
  {
   "cell_type": "markdown",
   "metadata": {
    "deletable": false,
    "editable": false,
    "nbgrader": {
     "cell_type": "markdown",
     "checksum": "cdd3c564e4626041ba6db4e183d53541",
     "grade": false,
     "grade_id": "cell-3d7dda1a34dab371",
     "locked": true,
     "schema_version": 3,
     "solution": false,
     "task": false
    }
   },
   "source": [
    "## Part B\n",
    "\n",
    "Next, we will use the College dataset to predict the number of applications ('Apps') received using the other variables in the College dataset. We will then use regularization to study their effects on our model. "
   ]
  },
  {
   "cell_type": "code",
   "execution_count": 19,
   "metadata": {},
   "outputs": [
    {
     "data": {
      "text/html": [
       "<div>\n",
       "<style scoped>\n",
       "    .dataframe tbody tr th:only-of-type {\n",
       "        vertical-align: middle;\n",
       "    }\n",
       "\n",
       "    .dataframe tbody tr th {\n",
       "        vertical-align: top;\n",
       "    }\n",
       "\n",
       "    .dataframe thead th {\n",
       "        text-align: right;\n",
       "    }\n",
       "</style>\n",
       "<table border=\"1\" class=\"dataframe\">\n",
       "  <thead>\n",
       "    <tr style=\"text-align: right;\">\n",
       "      <th></th>\n",
       "      <th>Private</th>\n",
       "      <th>Apps</th>\n",
       "      <th>Accept</th>\n",
       "      <th>Enroll</th>\n",
       "      <th>Top10perc</th>\n",
       "      <th>Top25perc</th>\n",
       "      <th>F_Undergrad</th>\n",
       "      <th>P_Undergrad</th>\n",
       "      <th>Outstate</th>\n",
       "      <th>Room_Board</th>\n",
       "      <th>Books</th>\n",
       "      <th>Personal</th>\n",
       "      <th>PhD</th>\n",
       "      <th>Terminal</th>\n",
       "      <th>S_F_Ratio</th>\n",
       "      <th>perc_alumni</th>\n",
       "      <th>Expend</th>\n",
       "      <th>Grad_Rate</th>\n",
       "    </tr>\n",
       "    <tr>\n",
       "      <th>Names</th>\n",
       "      <th></th>\n",
       "      <th></th>\n",
       "      <th></th>\n",
       "      <th></th>\n",
       "      <th></th>\n",
       "      <th></th>\n",
       "      <th></th>\n",
       "      <th></th>\n",
       "      <th></th>\n",
       "      <th></th>\n",
       "      <th></th>\n",
       "      <th></th>\n",
       "      <th></th>\n",
       "      <th></th>\n",
       "      <th></th>\n",
       "      <th></th>\n",
       "      <th></th>\n",
       "      <th></th>\n",
       "    </tr>\n",
       "  </thead>\n",
       "  <tbody>\n",
       "    <tr>\n",
       "      <th>Abilene Christian University</th>\n",
       "      <td>1</td>\n",
       "      <td>1660</td>\n",
       "      <td>1232</td>\n",
       "      <td>721</td>\n",
       "      <td>23</td>\n",
       "      <td>52</td>\n",
       "      <td>2885</td>\n",
       "      <td>537</td>\n",
       "      <td>7440</td>\n",
       "      <td>3300</td>\n",
       "      <td>450</td>\n",
       "      <td>2200</td>\n",
       "      <td>70</td>\n",
       "      <td>78</td>\n",
       "      <td>18.1</td>\n",
       "      <td>12</td>\n",
       "      <td>7041</td>\n",
       "      <td>60</td>\n",
       "    </tr>\n",
       "    <tr>\n",
       "      <th>Adelphi University</th>\n",
       "      <td>1</td>\n",
       "      <td>2186</td>\n",
       "      <td>1924</td>\n",
       "      <td>512</td>\n",
       "      <td>16</td>\n",
       "      <td>29</td>\n",
       "      <td>2683</td>\n",
       "      <td>1227</td>\n",
       "      <td>12280</td>\n",
       "      <td>6450</td>\n",
       "      <td>750</td>\n",
       "      <td>1500</td>\n",
       "      <td>29</td>\n",
       "      <td>30</td>\n",
       "      <td>12.2</td>\n",
       "      <td>16</td>\n",
       "      <td>10527</td>\n",
       "      <td>56</td>\n",
       "    </tr>\n",
       "    <tr>\n",
       "      <th>Adrian College</th>\n",
       "      <td>1</td>\n",
       "      <td>1428</td>\n",
       "      <td>1097</td>\n",
       "      <td>336</td>\n",
       "      <td>22</td>\n",
       "      <td>50</td>\n",
       "      <td>1036</td>\n",
       "      <td>99</td>\n",
       "      <td>11250</td>\n",
       "      <td>3750</td>\n",
       "      <td>400</td>\n",
       "      <td>1165</td>\n",
       "      <td>53</td>\n",
       "      <td>66</td>\n",
       "      <td>12.9</td>\n",
       "      <td>30</td>\n",
       "      <td>8735</td>\n",
       "      <td>54</td>\n",
       "    </tr>\n",
       "    <tr>\n",
       "      <th>Agnes Scott College</th>\n",
       "      <td>1</td>\n",
       "      <td>417</td>\n",
       "      <td>349</td>\n",
       "      <td>137</td>\n",
       "      <td>60</td>\n",
       "      <td>89</td>\n",
       "      <td>510</td>\n",
       "      <td>63</td>\n",
       "      <td>12960</td>\n",
       "      <td>5450</td>\n",
       "      <td>450</td>\n",
       "      <td>875</td>\n",
       "      <td>92</td>\n",
       "      <td>97</td>\n",
       "      <td>7.7</td>\n",
       "      <td>37</td>\n",
       "      <td>19016</td>\n",
       "      <td>59</td>\n",
       "    </tr>\n",
       "    <tr>\n",
       "      <th>Alaska Pacific University</th>\n",
       "      <td>1</td>\n",
       "      <td>193</td>\n",
       "      <td>146</td>\n",
       "      <td>55</td>\n",
       "      <td>16</td>\n",
       "      <td>44</td>\n",
       "      <td>249</td>\n",
       "      <td>869</td>\n",
       "      <td>7560</td>\n",
       "      <td>4120</td>\n",
       "      <td>800</td>\n",
       "      <td>1500</td>\n",
       "      <td>76</td>\n",
       "      <td>72</td>\n",
       "      <td>11.9</td>\n",
       "      <td>2</td>\n",
       "      <td>10922</td>\n",
       "      <td>15</td>\n",
       "    </tr>\n",
       "  </tbody>\n",
       "</table>\n",
       "</div>"
      ],
      "text/plain": [
       "                              Private  Apps  Accept  Enroll  Top10perc  \\\n",
       "Names                                                                    \n",
       "Abilene Christian University        1  1660    1232     721         23   \n",
       "Adelphi University                  1  2186    1924     512         16   \n",
       "Adrian College                      1  1428    1097     336         22   \n",
       "Agnes Scott College                 1   417     349     137         60   \n",
       "Alaska Pacific University           1   193     146      55         16   \n",
       "\n",
       "                              Top25perc  F_Undergrad  P_Undergrad  Outstate  \\\n",
       "Names                                                                         \n",
       "Abilene Christian University         52         2885          537      7440   \n",
       "Adelphi University                   29         2683         1227     12280   \n",
       "Adrian College                       50         1036           99     11250   \n",
       "Agnes Scott College                  89          510           63     12960   \n",
       "Alaska Pacific University            44          249          869      7560   \n",
       "\n",
       "                              Room_Board  Books  Personal  PhD  Terminal  \\\n",
       "Names                                                                      \n",
       "Abilene Christian University        3300    450      2200   70        78   \n",
       "Adelphi University                  6450    750      1500   29        30   \n",
       "Adrian College                      3750    400      1165   53        66   \n",
       "Agnes Scott College                 5450    450       875   92        97   \n",
       "Alaska Pacific University           4120    800      1500   76        72   \n",
       "\n",
       "                              S_F_Ratio  perc_alumni  Expend  Grad_Rate  \n",
       "Names                                                                    \n",
       "Abilene Christian University       18.1           12    7041         60  \n",
       "Adelphi University                 12.2           16   10527         56  \n",
       "Adrian College                     12.9           30    8735         54  \n",
       "Agnes Scott College                 7.7           37   19016         59  \n",
       "Alaska Pacific University          11.9            2   10922         15  "
      ]
     },
     "execution_count": 19,
     "metadata": {},
     "output_type": "execute_result"
    }
   ],
   "source": [
    "data = pd.read_csv('College.csv').copy()\n",
    "data.set_index('Names', inplace = True)\n",
    "data['Private'] = [1 if x==\"Yes\" else 0 for x in data['Private']]\n",
    "data = data.rename(columns = {'Grad.Rate':'Grad_Rate',\n",
    "                              'S.F.Ratio': 'S_F_Ratio',\n",
    "                              'perc.alumni':'perc_alumni',\n",
    "                              'Room.Board':'Room_Board',\n",
    "                              'F.Undergrad':'F_Undergrad',\n",
    "                              'P.Undergrad':'P_Undergrad'})\n",
    "data.head()"
   ]
  },
  {
   "cell_type": "markdown",
   "metadata": {
    "deletable": false,
    "editable": false,
    "nbgrader": {
     "cell_type": "markdown",
     "checksum": "c134dde3d407b50c1bea0bb26ca59d19",
     "grade": false,
     "grade_id": "cell-7d1939d6f76bdcef",
     "locked": true,
     "schema_version": 3,
     "solution": false,
     "task": false
    }
   },
   "source": [
    "1. Split the dataset into a training set and a test set, with a `test_size` of $20\\%$ and `random_state=1`."
   ]
  },
  {
   "cell_type": "code",
   "execution_count": 20,
   "metadata": {},
   "outputs": [],
   "source": [
    "# Add your codes here\n",
    "np.random.seed(1)\n",
    "train, test = train_test_split(data, test_size=0.2)"
   ]
  },
  {
   "cell_type": "code",
   "execution_count": 21,
   "metadata": {
    "deletable": false,
    "editable": false
   },
   "outputs": [
    {
     "name": "stdout",
     "output_type": "stream",
     "text": [
      "Correct! You earned 0.5/0.5 points. You are a star!\n",
      "\n",
      "Your submission has been successfully recorded in the gradebook.\n"
     ]
    }
   ],
   "source": [
    "grader.grade(test_case_id = 'test_train_test_split', answer = test)"
   ]
  },
  {
   "cell_type": "markdown",
   "metadata": {
    "deletable": false,
    "nbgrader": {
     "cell_type": "markdown",
     "checksum": "0678ec0d5be7f0833b3a42d9c0899de7",
     "grade": false,
     "grade_id": "cell-88bb828acf7041d2",
     "locked": true,
     "schema_version": 3,
     "solution": false,
     "task": false
    }
   },
   "source": [
    "2. Fit a linear model using `Stats Models` on the training set where the target variable is `Apps`, and report the test MSE obtained. Name this variable `test_MSE`."
   ]
  },
  {
   "cell_type": "code",
   "execution_count": 22,
   "metadata": {},
   "outputs": [
    {
     "data": {
      "text/plain": [
       "640045.027906143"
      ]
     },
     "execution_count": 22,
     "metadata": {},
     "output_type": "execute_result"
    }
   ],
   "source": [
    "model = LinearRegression(fit_intercept=True)\n",
    "model.fit(train.drop(['Apps'], axis=1), train['Apps'])\n",
    "predictions = model.predict(test.drop( ['Apps'], axis=1))\n",
    "\n",
    "test_MSE = mean_squared_error(test['Apps'], predictions)\n",
    "test_MSE"
   ]
  },
  {
   "cell_type": "code",
   "execution_count": 23,
   "metadata": {
    "deletable": false,
    "editable": false
   },
   "outputs": [
    {
     "name": "stdout",
     "output_type": "stream",
     "text": [
      "Correct! You earned 2/2 points. You are a star!\n",
      "\n",
      "Your submission has been successfully recorded in the gradebook.\n"
     ]
    }
   ],
   "source": [
    "grader.grade(test_case_id = 'test_MSE', answer = test_MSE)"
   ]
  },
  {
   "cell_type": "markdown",
   "metadata": {
    "deletable": false,
    "nbgrader": {
     "cell_type": "markdown",
     "checksum": "e0c7e824ed3fe34fcd2fb2d431028acd",
     "grade": false,
     "grade_id": "cell-651a4c4c3a62b0c6",
     "locked": true,
     "schema_version": 3,
     "solution": false,
     "task": false
    }
   },
   "source": [
    "3. What is the MSE if you fit a ridge regression with a $\\lambda$ parameter of 0? Store your answer in <b>ridge_lambda_0</b>. \n",
    "*Hint*: you can either take an informed guess and hard code your answer!"
   ]
  },
  {
   "cell_type": "code",
   "execution_count": 24,
   "metadata": {},
   "outputs": [
    {
     "data": {
      "text/plain": [
       "640045.0279061516"
      ]
     },
     "execution_count": 24,
     "metadata": {},
     "output_type": "execute_result"
    }
   ],
   "source": [
    "# Add your codes here\n",
    "from sklearn.linear_model import Ridge, RidgeCV, Lasso, LassoCV\n",
    "np.random.seed(1)\n",
    "train, test = train_test_split(data, test_size=0.2)\n",
    "\n",
    "\n",
    "alphas = 10**np.linspace(2,3,50)\n",
    "ridge = Ridge(normalize = True)\n",
    "coefs = []\n",
    "\n",
    "for a in alphas:\n",
    "    ridge.set_params(alpha = a)\n",
    "    ridge.fit(data.drop(['Apps'], axis=1), data['Apps'])\n",
    "    coefs.append(ridge.coef_)\n",
    "    \n",
    "np.shape(coefs)\n",
    "\n",
    "ridge2 = Ridge(alpha = 0, normalize = True)\n",
    "ridge2.fit(train.drop(['Apps'], axis=1), train['Apps'])             \n",
    "predictions = ridge2.predict(test.drop( ['Apps'], axis=1))           \n",
    "\n",
    "ridge_lambda_0 = mean_squared_error(test['Apps'], predictions)\n",
    "ridge_lambda_0"
   ]
  },
  {
   "cell_type": "code",
   "execution_count": 25,
   "metadata": {
    "deletable": false,
    "editable": false
   },
   "outputs": [
    {
     "name": "stdout",
     "output_type": "stream",
     "text": [
      "Correct! You earned 0.5/0.5 points. You are a star!\n",
      "\n",
      "Your submission has been successfully recorded in the gradebook.\n"
     ]
    }
   ],
   "source": [
    "grader.grade(test_case_id = 'test_ridge_lambda_0', answer = ridge_lambda_0)"
   ]
  },
  {
   "cell_type": "markdown",
   "metadata": {
    "deletable": false,
    "nbgrader": {
     "cell_type": "markdown",
     "checksum": "0bc4b75527ac3b26470ea1d823e1c759",
     "grade": false,
     "grade_id": "cell-ba88d9d033c6f03d",
     "locked": true,
     "schema_version": 3,
     "solution": false,
     "task": false
    }
   },
   "source": [
    "4. Fit a ridge regression model on the training set, with $\\lambda$ chosen by cross-validation. Report the test error obtained. *Hint*: Look at the recitation guides for how to implement cross-validation with `RidgeCV`. `RidgeCV` essentially performs hyper-parameter optimization (more on this in the next recitation) by testing all possible parameters through cross validation. For its parameters, specify `KFold cross validation` with ten folds, `scoring` with mean squared error, `normalization` set to true, and 50 equally spaced $\\lambda$ values ranging from $10^2$ to $10^3$. Name the selected value of $\\lambda$ as `ridge_select` and calculate the corresponding test MSE as `test_MSE_ridge`. \n",
    "\n",
    "*Hint*: Use np.linspace() to generate lambdas. Please refer to [sklearn.linear_model.ridgeCV](https://scikit-learn.org/stable/modules/generated/sklearn.linear_model.RidgeCV.html) for ridgeCV's documentation."
   ]
  },
  {
   "cell_type": "code",
   "execution_count": 26,
   "metadata": {
    "deletable": false,
    "nbgrader": {
     "cell_type": "code",
     "checksum": "30e324b543df214a6e87e7c491f84215",
     "grade": false,
     "grade_id": "cell-58a9a48e40ec25b5",
     "locked": false,
     "schema_version": 3,
     "solution": true,
     "task": false
    }
   },
   "outputs": [
    {
     "data": {
      "text/plain": [
       "13146544.500145046"
      ]
     },
     "execution_count": 26,
     "metadata": {},
     "output_type": "execute_result"
    }
   ],
   "source": [
    "# Add your codes here\n",
    "ridgecv = RidgeCV(alphas = alphas, scoring = 'neg_mean_squared_error', normalize = True)\n",
    "ridgecv.fit(train.drop(['Apps'], axis=1), train['Apps'])\n",
    "ridgecv.alpha_\n",
    "\n",
    "ridge4 = Ridge(alpha = ridgecv.alpha_, normalize = True)\n",
    "ridge4.fit(train.drop(['Apps'], axis=1), train['Apps'])\n",
    "\n",
    "\n",
    "\n",
    "\n",
    "ridge_select = ridgecv.alpha_\n",
    "test_MSE_ridge = mean_squared_error(test['Apps'], ridge4.predict(test.drop( ['Apps'], axis=1)))\n",
    "test_MSE_ridge"
   ]
  },
  {
   "cell_type": "code",
   "execution_count": 27,
   "metadata": {
    "deletable": false,
    "editable": false
   },
   "outputs": [
    {
     "name": "stdout",
     "output_type": "stream",
     "text": [
      "Correct! You earned 2.0/2 points. You are a star!\n",
      "\n",
      "Your submission has been successfully recorded in the gradebook.\n"
     ]
    }
   ],
   "source": [
    "grader.grade(test_case_id = 'test_ridgeCV', answer = (ridge_select, test_MSE_ridge))"
   ]
  },
  {
   "cell_type": "markdown",
   "metadata": {
    "deletable": false,
    "editable": false,
    "nbgrader": {
     "cell_type": "markdown",
     "checksum": "56252675fa4e6f421978918ae5db5a4e",
     "grade": false,
     "grade_id": "cell-a93260d7bb8372f2",
     "locked": true,
     "schema_version": 3,
     "solution": false,
     "task": false
    }
   },
   "source": [
    "5. Compare the ridge regression coefficients when using $\\lambda = 0$ and the value for $\\lambda$ given by `RidgeCV`. Comment on your observations."
   ]
  },
  {
   "cell_type": "code",
   "execution_count": 28,
   "metadata": {},
   "outputs": [],
   "source": [
    "# lamda = 0 has a smaller MSE than the lamda given by cross-validation"
   ]
  },
  {
   "cell_type": "markdown",
   "metadata": {
    "deletable": false,
    "nbgrader": {
     "cell_type": "markdown",
     "checksum": "7b118bbfcba1c350dfb7b0c62bc930cb",
     "grade": false,
     "grade_id": "cell-03d978e46a044522",
     "locked": true,
     "schema_version": 3,
     "solution": false,
     "task": false
    }
   },
   "source": [
    "6. Fit a lasso model on the training set, with $\\lambda$ chosen by cross-validation. Specify `KFold cross validation` with ten folds, `normalization` set to true, and 50 equally spaced $\\lambda$ values ranging from $10^2$ to $10^3$. Name the selected value of $\\lambda$ as `lasso_select` and calculate the corresponding test MSE as `test_MSE_lasso`. Also report the number of <b>non-zero</b> coefficient estimates by looking at the output of \n",
    "```Python\n",
    "pd.Series(lasso.coef_,index=x.columns)\n",
    "```\n",
    "and store your answer in `num_nonzero`"
   ]
  },
  {
   "cell_type": "code",
   "execution_count": 29,
   "metadata": {},
   "outputs": [
    {
     "name": "stdout",
     "output_type": "stream",
     "text": [
      "Test Error: 6685061.618833576\n",
      "Number of Non-zero coefficients: 17\n"
     ]
    }
   ],
   "source": [
    "# Add your codes here\n",
    "np.random.seed(1)\n",
    "train, test = train_test_split(data, test_size=0.2)\n",
    "\n",
    "\n",
    "alphas = 10**np.linspace(2,3,50)\n",
    "\n",
    "model = LassoCV(alphas=alphas, normalize=True, cv=10)\n",
    "model.fit(train.drop(['Apps'], axis=1), train['Apps'])\n",
    "\n",
    "predictions = model.predict(test.drop(['Apps'], axis=1))\n",
    "print(\"Test Error: \" +str(mean_squared_error(test['Apps'], predictions)))\n",
    "print(\"Number of Non-zero coefficients: \" + str(len(model.coef_)))\n",
    "\n",
    "\n",
    "lasso_select = model.alpha_\n",
    "test_MSE_lasso = mean_squared_error(test['Apps'], predictions)\n",
    "#test_MSE_lasso = mean_squared_error(test['Apps'], lasso.predict(test.drop(['Apps'], axis=1)))\n",
    "num_nonzero = 1"
   ]
  },
  {
   "cell_type": "code",
   "execution_count": 30,
   "metadata": {
    "deletable": false,
    "editable": false
   },
   "outputs": [
    {
     "name": "stdout",
     "output_type": "stream",
     "text": [
      "Correct! You earned 2.0/2 points. You are a star!\n",
      "\n",
      "Your submission has been successfully recorded in the gradebook.\n"
     ]
    }
   ],
   "source": [
    "grader.grade(test_case_id = 'test_lassoCV', answer = (lasso_select, test_MSE_lasso))"
   ]
  },
  {
   "cell_type": "code",
   "execution_count": 31,
   "metadata": {},
   "outputs": [
    {
     "data": {
      "text/plain": [
       "Private       -0.000000\n",
       "Accept         0.483153\n",
       "Enroll         0.000000\n",
       "Top10perc      0.000000\n",
       "Top25perc      0.000000\n",
       "F_Undergrad    0.000000\n",
       "P_Undergrad    0.000000\n",
       "Outstate       0.000000\n",
       "Room_Board     0.000000\n",
       "Books          0.000000\n",
       "Personal       0.000000\n",
       "PhD            0.000000\n",
       "Terminal       0.000000\n",
       "S_F_Ratio      0.000000\n",
       "perc_alumni   -0.000000\n",
       "Expend         0.000000\n",
       "Grad_Rate      0.000000\n",
       "dtype: float64"
      ]
     },
     "execution_count": 31,
     "metadata": {},
     "output_type": "execute_result"
    }
   ],
   "source": [
    "pd.Series(model.coef_, index=train.drop(['Apps'], axis=1).columns)"
   ]
  },
  {
   "cell_type": "code",
   "execution_count": 32,
   "metadata": {
    "deletable": false,
    "editable": false
   },
   "outputs": [
    {
     "name": "stdout",
     "output_type": "stream",
     "text": [
      "Correct! You earned 1/1 points. You are a star!\n",
      "\n",
      "Your submission has been successfully recorded in the gradebook.\n"
     ]
    }
   ],
   "source": [
    "grader.grade(test_case_id = 'test_lasso_nonzero', answer = num_nonzero)"
   ]
  },
  {
   "cell_type": "markdown",
   "metadata": {
    "deletable": false,
    "nbgrader": {
     "cell_type": "markdown",
     "checksum": "751a7de1ce4fb641710145eef0397577",
     "grade": false,
     "grade_id": "cell-dd959a0c38718000",
     "locked": true,
     "schema_version": 3,
     "solution": false,
     "task": false
    }
   },
   "source": [
    "7. Comment on the results obtained. How accurately can we predict the number of college applications received? Is there much diﬀerence among the test errors resulting from these three approaches? \n",
    "\n",
    "After commenting on your observations, please answer following questions:\n",
    "- In ridge regression, what will be the effect on coefficients if we have an infinitely large $\\lambda$ compared to OLS:\n",
    "\n",
    "    A. same coefficient values\n",
    "    \n",
    "    B. coefficients will shrink close to zero but not equal to zero\n",
    "    \n",
    "    C. some coefficients will shrink to zero\n",
    "    \n",
    "    D. all coefficients equal to zero \n",
    "\n",
    "\n",
    "- Assume the model complexity remains unchanged, what is the effect of increasing $\\lambda$ using ridge and lasso regressions:\n",
    "\n",
    "    A. Increasing bias and increasing variance\n",
    "    \n",
    "    B. Decreasing bias and decreasing variance \n",
    "    \n",
    "    C. Increasing bias and decreasing variance\n",
    "    \n",
    "    D. Decreasing bias and increasing variance\n",
    "    \n",
    "    E. None of the above \n",
    "\n",
    "Please enter your answer in `answers` as a list of characters, (['F','F'])"
   ]
  },
  {
   "cell_type": "code",
   "execution_count": 33,
   "metadata": {},
   "outputs": [],
   "source": [
    "# Add your comments and choises here\n",
    "answers = ['B', 'C']"
   ]
  },
  {
   "cell_type": "code",
   "execution_count": 34,
   "metadata": {
    "deletable": false,
    "editable": false
   },
   "outputs": [
    {
     "name": "stdout",
     "output_type": "stream",
     "text": [
      "Correct! You earned 1.0/1 points. You are a star!\n",
      "\n",
      "Your submission has been successfully recorded in the gradebook.\n"
     ]
    }
   ],
   "source": [
    "grader.grade(test_case_id = 'test_regu_ob', answer = answers)"
   ]
  }
 ],
 "metadata": {
  "kernelspec": {
   "display_name": "Python 3",
   "language": "python",
   "name": "python3"
  },
  "language_info": {
   "codemirror_mode": {
    "name": "ipython",
    "version": 3
   },
   "file_extension": ".py",
   "mimetype": "text/x-python",
   "name": "python",
   "nbconvert_exporter": "python",
   "pygments_lexer": "ipython3",
   "version": "3.6.8"
  }
 },
 "nbformat": 4,
 "nbformat_minor": 4
}
